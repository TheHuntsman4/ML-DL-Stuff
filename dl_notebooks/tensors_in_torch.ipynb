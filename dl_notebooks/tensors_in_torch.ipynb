{
 "cells": [
  {
   "cell_type": "code",
   "execution_count": 1,
   "metadata": {},
   "outputs": [],
   "source": [
    "import torch \n",
    "import numpy as np"
   ]
  },
  {
   "cell_type": "code",
   "execution_count": 12,
   "metadata": {},
   "outputs": [
    {
     "name": "stdout",
     "output_type": "stream",
     "text": [
      "The variance of x_rand is: [0.05711822 0.10322172 0.1506353  0.03605849 0.09888216 0.0182294\n",
      " 0.05326188 0.07411058 0.10163028 0.02736652]\n"
     ]
    }
   ],
   "source": [
    "# DELETE THIS LATER \n",
    "\n",
    "x_rand = np.random.uniform(0,1.0,size=(10,5))\n",
    "\n",
    "x_var = np.var(x_rand, axis=1)\n",
    "print(f\"The variance of x_rand is: {x_var}\")"
   ]
  },
  {
   "cell_type": "code",
   "execution_count": 3,
   "metadata": {},
   "outputs": [],
   "source": [
    "data = [[1,2],[3,4]]\n",
    "x_data = torch.tensor(data)"
   ]
  },
  {
   "cell_type": "code",
   "execution_count": 4,
   "metadata": {},
   "outputs": [],
   "source": [
    "np_array = np.array(data)\n",
    "x_data = torch.from_numpy(np_array)"
   ]
  },
  {
   "cell_type": "code",
   "execution_count": 14,
   "metadata": {},
   "outputs": [
    {
     "name": "stdout",
     "output_type": "stream",
     "text": [
      "Ones tensor: \n",
      " tensor([[1., 1.],\n",
      "        [1., 1.]], dtype=torch.float64) \n",
      "\n",
      "Rand Tensor: \n",
      " tensor([[0.3670, 0.5177],\n",
      "        [0.0710, 0.7463]], dtype=torch.float64)\n"
     ]
    }
   ],
   "source": [
    "x_ones = torch.ones_like(x_data, dtype=torch.float64)\n",
    "print(f\"Ones tensor: \\n {x_ones} \\n\")\n",
    "\n",
    "x_rand = torch.rand_like(x_data, dtype=torch.float64)\n",
    "print(f\"Rand Tensor: \\n {x_rand}\")"
   ]
  },
  {
   "cell_type": "code",
   "execution_count": 19,
   "metadata": {},
   "outputs": [
    {
     "name": "stdout",
     "output_type": "stream",
     "text": [
      "Ones tensor of shape: (3, 3)\n",
      " tensor([[1., 1., 1.],\n",
      "        [1., 1., 1.],\n",
      "        [1., 1., 1.]])\n",
      "'\n",
      "Random tensor of shape: (3, 3)\n",
      " tensor([[0.0960, 0.5680, 0.6362],\n",
      "        [0.9714, 0.2467, 0.1662],\n",
      "        [0.8112, 0.8573, 0.6394]])\n",
      "'\n",
      "torch.Size([3, 3])\n"
     ]
    }
   ],
   "source": [
    "shape = (3,3)\n",
    "    \n",
    "x_ones = torch.ones(shape)\n",
    "x_rand = torch.rand(shape)\n",
    "print(f\"Ones tensor of shape: {shape}\\n {x_ones}\\n'\")\n",
    "print(f\"Random tensor of shape: {shape}\\n {x_rand}\\n'\")\n",
    "\n",
    "print(x_rand.shape)"
   ]
  },
  {
   "cell_type": "code",
   "execution_count": 20,
   "metadata": {},
   "outputs": [],
   "source": [
    "if torch.cuda.is_available():\n",
    "    device = \"cuda\" "
   ]
  },
  {
   "cell_type": "code",
   "execution_count": 34,
   "metadata": {},
   "outputs": [
    {
     "name": "stdout",
     "output_type": "stream",
     "text": [
      "tensor([[0.4057, 0.7036, 0.2524, 0.1416],\n",
      "        [0.3153, 0.4806, 0.8902, 0.5878],\n",
      "        [0.0317, 0.6670, 0.2629, 0.3278]], device='cuda:0')\n"
     ]
    }
   ],
   "source": [
    "tensor = torch.rand(size=(3,4))\n",
    "tensor=tensor.to(device)\n",
    "print(tensor)"
   ]
  },
  {
   "cell_type": "code",
   "execution_count": 35,
   "metadata": {},
   "outputs": [
    {
     "name": "stdout",
     "output_type": "stream",
     "text": [
      "Printing the last column: tensor([0.1416, 0.5878, 0.3278], device='cuda:0')\n",
      "Printing the first colum: tensor([0.4057, 0.3153, 0.0317], device='cuda:0')\n"
     ]
    }
   ],
   "source": [
    "print(f\"Printing the last column: {tensor[...,-1]}\")\n",
    "print(f\"Printing the first colum: {tensor[:,0]}\")"
   ]
  },
  {
   "cell_type": "code",
   "execution_count": 36,
   "metadata": {},
   "outputs": [
    {
     "name": "stdout",
     "output_type": "stream",
     "text": [
      "Shape of X:torch.Size([3, 3])\n",
      "Shape of Tensor:torch.Size([3, 4])\n"
     ]
    }
   ],
   "source": [
    "print(f\"Shape of X:{x_rand.shape}\")\n",
    "print(f\"Shape of Tensor:{tensor.shape}\")"
   ]
  },
  {
   "cell_type": "code",
   "execution_count": 42,
   "metadata": {},
   "outputs": [],
   "source": [
    "x_rand=x_rand.to(device)\n",
    "t1 = torch.cat([tensor,x_rand], dim=1)\n",
    "t1 = t1.to(device)"
   ]
  },
  {
   "cell_type": "markdown",
   "metadata": {},
   "source": [
    "### Concatenating tensors\n",
    "\n",
    "The `torch.cat` function can take in multiple tensors and concatenate them. An important parameter to this function is the `dim` param. It tells the function along which dimension to concatenate the tensors. Tensors have 0-based indexing, so `dim=1` means concatenating the columns, but for this an important condition is that the number of rows in this case, must be equal. \n",
    "\n",
    "That is, if concatenating two tensors `t1` and `t2` using `dim=1`, this is what the shape of the tensors should be like: `t1[x][y]` and `t2[x][z]`.\n"
   ]
  },
  {
   "cell_type": "code",
   "execution_count": 40,
   "metadata": {},
   "outputs": [
    {
     "name": "stdout",
     "output_type": "stream",
     "text": [
      "tensor([[0.4057, 0.7036, 0.2524, 0.1416, 0.0960, 0.5680, 0.6362],\n",
      "        [0.3153, 0.4806, 0.8902, 0.5878, 0.9714, 0.2467, 0.1662],\n",
      "        [0.0317, 0.6670, 0.2629, 0.3278, 0.8112, 0.8573, 0.6394]],\n",
      "       device='cuda:0')\n"
     ]
    }
   ],
   "source": [
    "print(t1)"
   ]
  },
  {
   "cell_type": "code",
   "execution_count": 44,
   "metadata": {},
   "outputs": [
    {
     "name": "stdout",
     "output_type": "stream",
     "text": [
      "tensor([[0.4760, 0.9082, 0.8475, 0.2650, 0.5413, 0.8369, 0.6379],\n",
      "        [0.9708, 0.6364, 0.7796, 0.0241, 0.0724, 0.1716, 0.0875],\n",
      "        [0.1175, 0.2642, 0.1723, 0.3901, 0.5079, 0.1674, 0.9669]],\n",
      "       device='cuda:0')\n"
     ]
    }
   ],
   "source": [
    "t2 = torch.rand_like(t1)\n",
    "t2 = t2.to(device)"
   ]
  },
  {
   "cell_type": "code",
   "execution_count": 48,
   "metadata": {},
   "outputs": [],
   "source": [
    "t_stack = torch.stack([t1,t2])\n",
    "t_stack = t_stack.to(device)"
   ]
  },
  {
   "cell_type": "code",
   "execution_count": 50,
   "metadata": {},
   "outputs": [
    {
     "name": "stdout",
     "output_type": "stream",
     "text": [
      "torch.Size([2, 3, 7])\n"
     ]
    }
   ],
   "source": [
    "print(t_stack.shape)"
   ]
  },
  {
   "cell_type": "code",
   "execution_count": null,
   "metadata": {},
   "outputs": [],
   "source": []
  }
 ],
 "metadata": {
  "kernelspec": {
   "display_name": "Python 3",
   "language": "python",
   "name": "python3"
  },
  "language_info": {
   "codemirror_mode": {
    "name": "ipython",
    "version": 3
   },
   "file_extension": ".py",
   "mimetype": "text/x-python",
   "name": "python",
   "nbconvert_exporter": "python",
   "pygments_lexer": "ipython3",
   "version": "3.10.12"
  }
 },
 "nbformat": 4,
 "nbformat_minor": 2
}
